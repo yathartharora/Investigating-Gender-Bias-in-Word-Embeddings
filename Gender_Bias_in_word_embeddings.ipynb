{
  "nbformat": 4,
  "nbformat_minor": 0,
  "metadata": {
    "colab": {
      "provenance": []
    },
    "kernelspec": {
      "name": "python3",
      "display_name": "Python 3"
    },
    "language_info": {
      "name": "python"
    }
  },
  "cells": [
    {
      "cell_type": "markdown",
      "source": [
        "# Word2vec embedding model"
      ],
      "metadata": {
        "id": "hGu0h9lWcgxr"
      }
    },
    {
      "cell_type": "code",
      "execution_count": 78,
      "metadata": {
        "id": "wPSW73kWIT_I"
      },
      "outputs": [],
      "source": [
        "import nltk\n",
        "import gensim\n",
        "from gensim.models import Word2Vec\n",
        "from nltk.tokenize import sent_tokenize, word_tokenize\n",
        "import warnings\n",
        "import numpy as np\n",
        "import matplotlib.pyplot as plt\n",
        "warnings.filterwarnings(action='ignore')"
      ]
    },
    {
      "cell_type": "code",
      "source": [
        "model = gensim.models.KeyedVectors.load_word2vec_format('/content/drive/MyDrive/Embedding Models/GoogleNews-vectors-negative300.bin',binary=True)"
      ],
      "metadata": {
        "id": "D5SD905KIaDW"
      },
      "execution_count": 79,
      "outputs": []
    },
    {
      "cell_type": "code",
      "source": [
        "man=model['man']\n",
        "man.shape"
      ],
      "metadata": {
        "colab": {
          "base_uri": "https://localhost:8080/"
        },
        "id": "sjtVvLnDIhxD",
        "outputId": "4d51f26e-c0b0-43fd-ade8-eb82438b37c6"
      },
      "execution_count": 80,
      "outputs": [
        {
          "output_type": "execute_result",
          "data": {
            "text/plain": [
              "(300,)"
            ]
          },
          "metadata": {},
          "execution_count": 80
        }
      ]
    },
    {
      "cell_type": "code",
      "source": [
        "model.most_similar(positive=['she','doctor'],negative=['he'])"
      ],
      "metadata": {
        "colab": {
          "base_uri": "https://localhost:8080/"
        },
        "id": "ouu_RbstJKZs",
        "outputId": "12356df1-eab8-4334-cdcf-9a58803b4122"
      },
      "execution_count": 81,
      "outputs": [
        {
          "output_type": "execute_result",
          "data": {
            "text/plain": [
              "[('nurse', 0.6588720679283142),\n",
              " ('gynecologist', 0.647172212600708),\n",
              " ('nurse_practitioner', 0.6255376935005188),\n",
              " ('midwife', 0.6002784371376038),\n",
              " ('pediatrician', 0.5921324491500854),\n",
              " ('dermatologist', 0.5582225322723389),\n",
              " ('ob_gyn', 0.5563921928405762),\n",
              " ('pharmacist', 0.5559877753257751),\n",
              " ('doctors', 0.5544067621231079),\n",
              " ('nurse_midwife', 0.554105281829834)]"
            ]
          },
          "metadata": {},
          "execution_count": 81
        }
      ]
    },
    {
      "cell_type": "code",
      "source": [
        "model.similarity('nurse','he')"
      ],
      "metadata": {
        "colab": {
          "base_uri": "https://localhost:8080/"
        },
        "id": "oyGwUpgdJLRZ",
        "outputId": "e061b250-08ea-43d1-ad42-e2657765f013"
      },
      "execution_count": 82,
      "outputs": [
        {
          "output_type": "execute_result",
          "data": {
            "text/plain": [
              "0.122331396"
            ]
          },
          "metadata": {},
          "execution_count": 82
        }
      ]
    },
    {
      "cell_type": "code",
      "source": [
        "reference_vector = model['he']\n",
        "words_to_compare = ['king', 'woman', 'queen', 'computer']\n",
        "cosine_similarities = model.cosine_similarities(reference_vector,[model[word] for word in words_to_compare])\n",
        "for word, similarity in zip(words_to_compare, cosine_similarities):\n",
        "      print(f\"Similarity between 'he' and '{word}': {similarity}\")"
      ],
      "metadata": {
        "colab": {
          "base_uri": "https://localhost:8080/"
        },
        "id": "aVGfsC5yJqbD",
        "outputId": "3e46eb89-8e43-4ff8-a388-3a866a6c470f"
      },
      "execution_count": 83,
      "outputs": [
        {
          "output_type": "stream",
          "name": "stdout",
          "text": [
            "Similarity between 'he' and 'king': 0.22512571513652802\n",
            "Similarity between 'he' and 'woman': 0.27842947840690613\n",
            "Similarity between 'he' and 'queen': 0.0928286537528038\n",
            "Similarity between 'he' and 'computer': 0.06230514124035835\n"
          ]
        }
      ]
    },
    {
      "cell_type": "code",
      "source": [],
      "metadata": {
        "id": "_vjCxG2SKTYD"
      },
      "execution_count": 83,
      "outputs": []
    },
    {
      "cell_type": "markdown",
      "source": [
        "Plot of different occupations on the ~she-~he vector"
      ],
      "metadata": {
        "id": "zMOM8euILsiT"
      }
    },
    {
      "cell_type": "code",
      "source": [
        "she_vector = model['she']\n",
        "he_vector = model['he']\n",
        "reference_vector = she_vector-he_vector\n",
        "# reference_vector=she_vector"
      ],
      "metadata": {
        "id": "likQ4XX3L3XL"
      },
      "execution_count": 84,
      "outputs": []
    },
    {
      "cell_type": "code",
      "source": [
        "occupations = ['doctor', 'nurse', 'engineer', 'teacher', 'scientist', 'artist', 'programmer', 'manager', 'chef', 'driver']\n",
        "\n",
        "occupation_vectors = [model[word] for word in occupations]"
      ],
      "metadata": {
        "id": "RjkGnkn0MFJN"
      },
      "execution_count": 85,
      "outputs": []
    },
    {
      "cell_type": "code",
      "source": [
        "cosine_similarities = model.cosine_similarities(reference_vector,occupation_vectors)"
      ],
      "metadata": {
        "id": "cZ2S6uTYMMaF"
      },
      "execution_count": 86,
      "outputs": []
    },
    {
      "cell_type": "code",
      "source": [
        "fig, ax = plt.subplots()\n",
        "ax.scatter(cosine_similarities, np.zeros_like(cosine_similarities), marker='o')\n",
        "\n",
        "# for i, occupation in enumerate(occupations):\n",
        "#     ax.annotate(occupation, (occupation_vectors[i], 0), textcoords=\"offset points\", xytext=(0,10), ha='center')\n",
        "\n",
        "for i, occupation in enumerate(occupations):\n",
        "    ax.annotate(occupation, (cosine_similarities[i], 0), textcoords=\"offset points\", xytext=(0,10), ha='center',fontsize=8)\n",
        "\n",
        "# Set labels and title\n",
        "ax.set_xlabel('Cosine Similarity to \"she\"')\n",
        "ax.set_yticks([])\n",
        "ax.set_title('Occupations Similarity to \"she\"')\n",
        "\n",
        "plt.show()\n"
      ],
      "metadata": {
        "colab": {
          "base_uri": "https://localhost:8080/",
          "height": 472
        },
        "id": "TYFz8Tv-MRWK",
        "outputId": "55cabab6-aeeb-43e5-b411-dd86217f4e58"
      },
      "execution_count": 87,
      "outputs": [
        {
          "output_type": "display_data",
          "data": {
            "text/plain": [
              "<Figure size 640x480 with 1 Axes>"
            ],
            "image/png": "[encoded data removed]"
          },
          "metadata": {}
        }
      ]
    },
    {
      "cell_type": "markdown",
      "source": [
        "# Bert Embedding model"
      ],
      "metadata": {
        "id": "w8fS62RWcRbo"
      }
    },
    {
      "cell_type": "code",
      "source": [
        "from transformers import BertTokenizer, BertModel\n",
        "from sklearn.metrics.pairwise import cosine_similarity\n",
        "import torch"
      ],
      "metadata": {
        "id": "bHdBckPTce_5"
      },
      "execution_count": 99,
      "outputs": []
    },
    {
      "cell_type": "code",
      "source": [
        "words= ['he','she','king','queen']"
      ],
      "metadata": {
        "id": "u1E2hWWaiZ-v"
      },
      "execution_count": 111,
      "outputs": []
    },
    {
      "cell_type": "code",
      "source": [
        "tokenizer = BertTokenizer.from_pretrained('bert-base-uncased')\n",
        "model = BertModel.from_pretrained('bert-base-uncased')"
      ],
      "metadata": {
        "id": "i-0hO6anisz0"
      },
      "execution_count": 112,
      "outputs": []
    },
    {
      "cell_type": "code",
      "source": [
        "tokens = tokenizer(words,return_tensors='pt',padding=True,truncation=True)"
      ],
      "metadata": {
        "id": "vz18lP7kjnU6"
      },
      "execution_count": 113,
      "outputs": []
    },
    {
      "cell_type": "code",
      "source": [
        "tokens"
      ],
      "metadata": {
        "colab": {
          "base_uri": "https://localhost:8080/"
        },
        "id": "FeRoelAbjzAW",
        "outputId": "aac99f40-27ee-406b-fcf2-db269f6adca9"
      },
      "execution_count": 114,
      "outputs": [
        {
          "output_type": "execute_result",
          "data": {
            "text/plain": [
              "{'input_ids': tensor([[ 101, 2002,  102],\n",
              "        [ 101, 2016,  102],\n",
              "        [ 101, 2332,  102],\n",
              "        [ 101, 3035,  102]]), 'token_type_ids': tensor([[0, 0, 0],\n",
              "        [0, 0, 0],\n",
              "        [0, 0, 0],\n",
              "        [0, 0, 0]]), 'attention_mask': tensor([[1, 1, 1],\n",
              "        [1, 1, 1],\n",
              "        [1, 1, 1],\n",
              "        [1, 1, 1]])}"
            ]
          },
          "metadata": {},
          "execution_count": 114
        }
      ]
    },
    {
      "cell_type": "code",
      "source": [
        "output = model(**tokens)"
      ],
      "metadata": {
        "id": "VdPoVQpij1BX"
      },
      "execution_count": 115,
      "outputs": []
    },
    {
      "cell_type": "code",
      "source": [
        "embeddings=output.last_hidden_state"
      ],
      "metadata": {
        "id": "5Ipog3tJj3gV"
      },
      "execution_count": 116,
      "outputs": []
    },
    {
      "cell_type": "code",
      "source": [
        "embeddings.shape"
      ],
      "metadata": {
        "colab": {
          "base_uri": "https://localhost:8080/"
        },
        "id": "meOy_XUuj5Ig",
        "outputId": "d311fdb4-6300-4cbc-fb39-2cf4b93d5b4e"
      },
      "execution_count": 117,
      "outputs": [
        {
          "output_type": "execute_result",
          "data": {
            "text/plain": [
              "torch.Size([4, 3, 768])"
            ]
          },
          "metadata": {},
          "execution_count": 117
        }
      ]
    },
    {
      "cell_type": "code",
      "source": [
        "mean_embeddings = torch.mean(embeddings,dim=1)"
      ],
      "metadata": {
        "id": "wt0fnt8PkEkD"
      },
      "execution_count": 118,
      "outputs": []
    },
    {
      "cell_type": "code",
      "source": [
        "mean_embeddings.shape"
      ],
      "metadata": {
        "colab": {
          "base_uri": "https://localhost:8080/"
        },
        "id": "h57dKAE_kKfY",
        "outputId": "65cd9fa8-6a5a-4783-859d-10ecd09b0b10"
      },
      "execution_count": 119,
      "outputs": [
        {
          "output_type": "execute_result",
          "data": {
            "text/plain": [
              "torch.Size([4, 768])"
            ]
          },
          "metadata": {},
          "execution_count": 119
        }
      ]
    },
    {
      "cell_type": "code",
      "source": [
        "array_embedding = []\n",
        "for i,word in enumerate(words):\n",
        "  array_embedding.append(mean_embeddings[i].detach().numpy())"
      ],
      "metadata": {
        "id": "8CwbDSx-kRQb"
      },
      "execution_count": 120,
      "outputs": []
    },
    {
      "cell_type": "code",
      "source": [
        "cosine_similarity([array_embedding[1]],[array_embedding[2]])"
      ],
      "metadata": {
        "colab": {
          "base_uri": "https://localhost:8080/"
        },
        "id": "CGeQlLXnks3a",
        "outputId": "fc136ca2-0cec-47d6-8c8e-66c45286f472"
      },
      "execution_count": 124,
      "outputs": [
        {
          "output_type": "execute_result",
          "data": {
            "text/plain": [
              "array([[0.8514766]], dtype=float32)"
            ]
          },
          "metadata": {},
          "execution_count": 124
        }
      ]
    },
    {
      "cell_type": "code",
      "source": [],
      "metadata": {
        "id": "tvao3mk5kzOD"
      },
      "execution_count": null,
      "outputs": []
    }
  ]
}